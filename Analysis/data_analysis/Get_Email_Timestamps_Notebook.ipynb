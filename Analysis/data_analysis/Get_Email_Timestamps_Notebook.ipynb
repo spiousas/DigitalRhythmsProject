{
  "nbformat": 4,
  "nbformat_minor": 0,
  "metadata": {
    "colab": {
      "name": "Get Email Timestamps Notebook.ipynb",
      "provenance": [],
      "collapsed_sections": [],
      "include_colab_link": true
    },
    "kernelspec": {
      "name": "python3",
      "display_name": "Python 3"
    }
  },
  "cells": [
    {
      "cell_type": "markdown",
      "metadata": {
        "id": "view-in-github",
        "colab_type": "text"
      },
      "source": [
        "<a href=\"https://colab.research.google.com/github/delaiglesialab/DigitalRhythmsProject/blob/main/Get_Email_Timestamps_Notebook.ipynb\" target=\"_parent\"><img src=\"https://colab.research.google.com/assets/colab-badge.svg\" alt=\"Open In Colab\"/></a>"
      ]
    },
    {
      "cell_type": "markdown",
      "metadata": {
        "id": "qKEDy5xhX-K9"
      },
      "source": [
        "### **Get Email Timestamps**\n",
        "\n",
        "\n",
        "---\n",
        "\n",
        "\n",
        "\n",
        "\n"
      ]
    },
    {
      "cell_type": "markdown",
      "metadata": {
        "id": "rxpJRTryYMav"
      },
      "source": [
        "Thanks for helping us to investigate work rhythms under social isolation! This simple iPython notebook will help you to create a CSV file containing timestamps of your Gmail outbox **WITHOUT** saving sensitive contents of your email messages. Y\n",
        "\n",
        "\n",
        "\n",
        "You will upload the MBOX data file you downloaded from your email account. Don't worry about uploading your full MBOX data file here - it's only stored temporarily and we will walk you through deleting it at the end of your session.\n",
        "\n",
        "\n",
        "\n",
        "Our code will do a little simple processing for you, and then you'll get back a CSV file containing the timestamps of your outgoing emails that can be used for analysis.\n",
        "\n",
        "\n",
        "\n",
        "Follow the instructions to run each cell of code. If you're not familiar with iPython notebooks, all you need to do is click the triangular \"Play\" button on the left side of each cell that appears as you hover over the brackets next to the words \"SHOW CODE\". **Make sure you run every single cell, or you WILL get errors!**\n",
        "\n",
        "\n",
        "\n",
        "Do **NOT** change any of the code in the cells (it's hidden by default), you can provide the information you need to run the code in the text input fields.\n",
        "\n",
        "\n",
        "\n",
        "Good luck, and feel free to reach out to Ray at raysan53@uw.edu if you run into any issues!\n",
        "\n",
        "\n",
        "\n",
        "---\n",
        "\n",
        "\n",
        "\n",
        "\n",
        "\n"
      ]
    },
    {
      "cell_type": "markdown",
      "metadata": {
        "id": "f5yGW2H79isJ"
      },
      "source": [
        "**Set up Python**\n",
        "\n",
        "Run the cell below to load in the Python packages you need to read the MBOX file."
      ]
    },
    {
      "cell_type": "code",
      "metadata": {
        "id": "0Rba9zaCy_GH",
        "cellView": "form"
      },
      "source": [
        "#@title\n",
        "# This cell loads in the packages you'll need\n",
        "import pandas as pd\n",
        "import mailbox\n",
        "import csv\n",
        "from google.colab import files\n",
        "from datetime import datetime\n",
        "from dateutil import tz\n",
        "import calendar\n",
        "from datetime import date, timedelta"
      ],
      "execution_count": null,
      "outputs": []
    },
    {
      "cell_type": "markdown",
      "metadata": {
        "id": "he0YI9NVe5Vj"
      },
      "source": [
        "\n",
        "\n",
        "\n",
        "\n",
        "\n",
        "\n",
        "---\n",
        "\n",
        "\n",
        "**Uploading your MBOX file**\n",
        "\n",
        "Running this next cell will prompt you to upload a file. After you run the cell, select the MBOX file you've just created using Google Takeout. Depending on the size of your file and your Internet connection, the upload could take several minutes, so sit tight."
      ]
    },
    {
      "cell_type": "code",
      "metadata": {
        "id": "GIDJEGLra489",
        "cellView": "form"
      },
      "source": [
        "#@title\n",
        "# Running this cell will prompt you to upload a file\n",
        "uploaded = files.upload()"
      ],
      "execution_count": null,
      "outputs": []
    },
    {
      "cell_type": "markdown",
      "metadata": {
        "id": "0PTVy5fpoqxw"
      },
      "source": [
        "\n",
        "\n",
        "\n",
        "\n",
        "\n",
        "\n",
        "---\n",
        "\n",
        "\n",
        "\n",
        "**Provide your file name and email address**\n",
        "\n",
        "Use the prompts below to enter the name of the MBOX file (followed by the .mbox extension) you just uploaded and your email address (**enter email exactly as it appears in your email client - the code is case sensitive**). Make sure to run each cell after you enter your file name and email. Python should read in the outgoing timestamps of your MBOX data according to the local time zone on your computer by default, so make sure this is set accurately."
      ]
    },
    {
      "cell_type": "code",
      "metadata": {
        "id": "Jicyt0gmp4sB",
        "cellView": "form"
      },
      "source": [
        "YourFile = '' #@param {type:\"string\"}"
      ],
      "execution_count": null,
      "outputs": []
    },
    {
      "cell_type": "code",
      "metadata": {
        "id": "5XMkoU7gohly",
        "cellView": "form"
      },
      "source": [
        "YourEmail = '' #@param {type:\"string\"}"
      ],
      "execution_count": null,
      "outputs": []
    },
    {
      "cell_type": "markdown",
      "metadata": {
        "id": "WIZ9tMiCfwlG"
      },
      "source": [
        "\n",
        "\n",
        "---\n",
        "\n",
        "\n",
        "\n",
        "**Loading your MBOX data into Python**\n",
        "\n",
        "Running the next cell will read your MBOX data from the file you just uploaded into Python and create a data frame that ONLY includes the timestamp of each message in your outgoing emails."
      ]
    },
    {
      "cell_type": "code",
      "metadata": {
        "id": "3_gjSee3dhV7",
        "cellView": "form"
      },
      "source": [
        "#@title\n",
        "# Load MBOX\n",
        "mb = mailbox.mbox(YourFile)\n",
        "keys = ['Date', 'From']\n",
        "message_list = []\n",
        "\n",
        "# Loop through MBOX data and pull out Date and From columns only\n",
        "for message in mb.itervalues():\n",
        "    dmessage = dict(message.items())\n",
        "    message_list.append({key:dmessage[key] if key in dmessage.keys() else '' for key in keys})\n",
        "\n",
        "message_list\n",
        "# Convert to pandas dataframe and clean up\n",
        "messages = pd.DataFrame(message_list)\n",
        "messages.index = messages['Date'].apply(lambda x: pd.to_datetime(x, errors='coerce'))\n",
        "messages = messages[messages['From'].str.contains(YourEmail)]\n",
        "messages = messages.sort_index()\n",
        "messages[['Day of Week','Timestamp']] = messages.Date.str.split(\",\",expand=True,)\n",
        "final_messages = messages[['Day of Week','Timestamp']]\n",
        "\n",
        "\n",
        "# Print email data to console\n",
        "final_messages.index.name = None\n",
        "final_messages.reset_index(drop=True, inplace=True)\n",
        "final_messages"
      ],
      "execution_count": null,
      "outputs": []
    },
    {
      "cell_type": "markdown",
      "metadata": {
        "id": "onHQeMhMJQCv"
      },
      "source": [
        "**Download your data to a CSV file**\n",
        "\n",
        "Name your CSV file in the field below and run the cell. Running this cell will write your final data frame to a CSV and download it to your machine."
      ]
    },
    {
      "cell_type": "code",
      "metadata": {
        "id": "K2nlgFAL3H4j",
        "cellView": "form"
      },
      "source": [
        "Title = \"\" #@param {type:\"string\"}\n",
        "name = Title + \".csv\"\n",
        "final_messages['date'] = final_messages['Timestamp']\n",
        "final_messages['date'] = pd.to_datetime(final_messages['date']) \n",
        "\n",
        "df = final_messages\n",
        "\n",
        "\n",
        "#Start_Date = \"2020-04-01\" #@param {type:\"date\"}\n",
        "#End_Date = \"2020-05-31\" #@param {type:\"date\"}\n",
        "\n",
        "#mask = (df['date'] >= Start_Date) & (df['date'] <= End_Date)\n",
        "#timeframe = df.loc[mask]\n",
        "timeframe = df[['Day of Week','Timestamp']]\n",
        "timeframe.to_csv(name, index=False) \n",
        "files.download(name)"
      ],
      "execution_count": null,
      "outputs": []
    },
    {
      "cell_type": "code",
      "metadata": {
        "id": "0sREyrOs1mj2",
        "cellView": "form"
      },
      "source": [
        "#@title Delete your email data\n",
        "#@markdown Deletes all files from colab when run. \n",
        "#@markdown\n",
        "#@markdown (run AFTER downloading CSVs)\n",
        "!rm *.*\n",
        "print(\"You're done!\")"
      ],
      "execution_count": null,
      "outputs": []
    },
    {
      "cell_type": "markdown",
      "metadata": {
        "id": "UB3I1RFtYp8B"
      },
      "source": [
        "\n",
        "\n",
        "\n",
        "---\n",
        "\n",
        "\n",
        "**Now you just need to share your timestamps CSV file with us, and then you're all set! Thanks for participating!**\n",
        "\n",
        "\n",
        "\n"
      ]
    }
  ]
}